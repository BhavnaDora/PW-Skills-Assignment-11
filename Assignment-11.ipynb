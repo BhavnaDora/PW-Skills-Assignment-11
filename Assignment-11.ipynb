{
 "cells": [
  {
   "cell_type": "markdown",
   "id": "7d3e11fc-5da8-48ac-94f5-1ceaa8dfbb0c",
   "metadata": {},
   "source": [
    "#### (1)-\n",
    "##### Exception is an incident that happens while excetuing the program which causes the regular course of the program to be disrupted.\n",
    "##### Errors in python are of 2 types- Syntax error and Exception \n",
    "##### Syntax error- As the name suggests it occurs due to wrong syntax.\n",
    "##### Exception- Exceptions are raised when the program is syntatically correct but code resulted in an error. Example- zerodivision error, file not found error etc."
   ]
  },
  {
   "cell_type": "markdown",
   "id": "ac8ff53f-caeb-4bc3-a05d-4a1a89a689cf",
   "metadata": {},
   "source": [
    "#### (2)-\n",
    "##### When an exception is not handled, the rest of the code below it is not executed. The program terminates there. So, this will be an issue while writing many lines of code."
   ]
  },
  {
   "cell_type": "code",
   "execution_count": 1,
   "id": "3c372de5-1381-4b2e-86ad-e36e84c3e881",
   "metadata": {},
   "outputs": [
    {
     "ename": "FileNotFoundError",
     "evalue": "[Errno 2] No such file or directory: 'test1.txt'",
     "output_type": "error",
     "traceback": [
      "\u001b[0;31m---------------------------------------------------------------------------\u001b[0m",
      "\u001b[0;31mFileNotFoundError\u001b[0m                         Traceback (most recent call last)",
      "Cell \u001b[0;32mIn[1], line 3\u001b[0m\n\u001b[1;32m      1\u001b[0m \u001b[38;5;66;03m# example- \u001b[39;00m\n\u001b[0;32m----> 3\u001b[0m f\u001b[38;5;241m=\u001b[39m \u001b[38;5;28;43mopen\u001b[39;49m\u001b[43m(\u001b[49m\u001b[38;5;124;43m\"\u001b[39;49m\u001b[38;5;124;43mtest1.txt\u001b[39;49m\u001b[38;5;124;43m\"\u001b[39;49m\u001b[43m,\u001b[49m\u001b[38;5;124;43m\"\u001b[39;49m\u001b[38;5;124;43mr\u001b[39;49m\u001b[38;5;124;43m\"\u001b[39;49m\u001b[43m)\u001b[49m\n\u001b[1;32m      4\u001b[0m \u001b[38;5;28mprint\u001b[39m(\u001b[38;5;124m\"\u001b[39m\u001b[38;5;124mhello! welcome to DSM\u001b[39m\u001b[38;5;124m\"\u001b[39m)\n",
      "File \u001b[0;32m/opt/conda/lib/python3.10/site-packages/IPython/core/interactiveshell.py:282\u001b[0m, in \u001b[0;36m_modified_open\u001b[0;34m(file, *args, **kwargs)\u001b[0m\n\u001b[1;32m    275\u001b[0m \u001b[38;5;28;01mif\u001b[39;00m file \u001b[38;5;129;01min\u001b[39;00m {\u001b[38;5;241m0\u001b[39m, \u001b[38;5;241m1\u001b[39m, \u001b[38;5;241m2\u001b[39m}:\n\u001b[1;32m    276\u001b[0m     \u001b[38;5;28;01mraise\u001b[39;00m \u001b[38;5;167;01mValueError\u001b[39;00m(\n\u001b[1;32m    277\u001b[0m         \u001b[38;5;124mf\u001b[39m\u001b[38;5;124m\"\u001b[39m\u001b[38;5;124mIPython won\u001b[39m\u001b[38;5;124m'\u001b[39m\u001b[38;5;124mt let you open fd=\u001b[39m\u001b[38;5;132;01m{\u001b[39;00mfile\u001b[38;5;132;01m}\u001b[39;00m\u001b[38;5;124m by default \u001b[39m\u001b[38;5;124m\"\u001b[39m\n\u001b[1;32m    278\u001b[0m         \u001b[38;5;124m\"\u001b[39m\u001b[38;5;124mas it is likely to crash IPython. If you know what you are doing, \u001b[39m\u001b[38;5;124m\"\u001b[39m\n\u001b[1;32m    279\u001b[0m         \u001b[38;5;124m\"\u001b[39m\u001b[38;5;124myou can use builtins\u001b[39m\u001b[38;5;124m'\u001b[39m\u001b[38;5;124m open.\u001b[39m\u001b[38;5;124m\"\u001b[39m\n\u001b[1;32m    280\u001b[0m     )\n\u001b[0;32m--> 282\u001b[0m \u001b[38;5;28;01mreturn\u001b[39;00m \u001b[43mio_open\u001b[49m\u001b[43m(\u001b[49m\u001b[43mfile\u001b[49m\u001b[43m,\u001b[49m\u001b[43m \u001b[49m\u001b[38;5;241;43m*\u001b[39;49m\u001b[43margs\u001b[49m\u001b[43m,\u001b[49m\u001b[43m \u001b[49m\u001b[38;5;241;43m*\u001b[39;49m\u001b[38;5;241;43m*\u001b[39;49m\u001b[43mkwargs\u001b[49m\u001b[43m)\u001b[49m\n",
      "\u001b[0;31mFileNotFoundError\u001b[0m: [Errno 2] No such file or directory: 'test1.txt'"
     ]
    }
   ],
   "source": [
    "# example- \n",
    "\n",
    "f= open(\"test1.txt\",\"r\")\n",
    "print(\"hello! welcome to DSM\")"
   ]
  },
  {
   "cell_type": "markdown",
   "id": "216ea9dd-9937-44c3-b09e-c8cd6145d81f",
   "metadata": {},
   "source": [
    "#### (3)-\n",
    "##### To handle exceptions we use try and except statements. Any piece of code we are suscpicious that it will raise an error, we put that in the try block. If it raises exception, it goes to the except block where the error is printed in a messsage and it doesn't terminate the program there. The other lines of code which are error free smoothly run."
   ]
  },
  {
   "cell_type": "code",
   "execution_count": 2,
   "id": "e49ca21c-a07b-4670-a16f-e967d1588e24",
   "metadata": {},
   "outputs": [
    {
     "name": "stdout",
     "output_type": "stream",
     "text": [
      "there's some issue with my code [Errno 2] No such file or directory: 'test1.txt'\n",
      "30\n"
     ]
    }
   ],
   "source": [
    "try:\n",
    "    f= open(\"test1.txt\",\"r\")\n",
    "    print(\"hello! welcome to DSM\")\n",
    "except Exception as e:\n",
    "    print(\"there's some issue with my code\",e)\n",
    "a=10\n",
    "b=20\n",
    "print(a+b)"
   ]
  },
  {
   "cell_type": "markdown",
   "id": "8421bc70-e12e-4b8e-aa8a-20322bd3af3c",
   "metadata": {},
   "source": [
    "#### (4)(a)- \n",
    "##### try and else- else block is only executed when the try block is error/exception free."
   ]
  },
  {
   "cell_type": "code",
   "execution_count": 3,
   "id": "dc1f2011-b1ac-4cfb-8c81-d127d18c453a",
   "metadata": {},
   "outputs": [
    {
     "name": "stdout",
     "output_type": "stream",
     "text": [
      "else block gets executed when try block is executed without any exception\n"
     ]
    }
   ],
   "source": [
    "try:\n",
    "    f= open(\"test1.txt\",\"w\")\n",
    "    f.write(\"this is my try block\")\n",
    "except Exception as e:\n",
    "    print(\"there's some issue with my code\",e)\n",
    "else:\n",
    "    f.close()\n",
    "    print(\"else block gets executed when try block is executed without any exception\")"
   ]
  },
  {
   "cell_type": "markdown",
   "id": "e617249a-6233-436d-bfed-adf7847a17f7",
   "metadata": {},
   "source": [
    "#### (4)(b)-\n",
    "##### finally- finally block is always executed even if there's error/exception in try block"
   ]
  },
  {
   "cell_type": "code",
   "execution_count": 4,
   "id": "fcc3b566-80d7-4c3c-b9bb-319e515a0261",
   "metadata": {},
   "outputs": [
    {
     "name": "stdout",
     "output_type": "stream",
     "text": [
      "there's some issue with my code [Errno 2] No such file or directory: 'test2.txt'\n",
      "finally block is always exectuted even if there's exception raised by try\n"
     ]
    }
   ],
   "source": [
    "try:\n",
    "    f= open(\"test2.txt\",\"r\")\n",
    "except Exception as e:\n",
    "    print(\"there's some issue with my code\",e)\n",
    "finally:\n",
    "    print(\"finally block is always exectuted even if there's exception raised by try\")"
   ]
  },
  {
   "cell_type": "markdown",
   "id": "2fac119c-cc68-4097-bb6b-d0ee5b26dc29",
   "metadata": {},
   "source": [
    "#### (4)(c)-\n",
    "##### raise- raise is a reserved keyword. It is used to throw an exception if any condition as such arise. This is a form of custom exception handling."
   ]
  },
  {
   "cell_type": "code",
   "execution_count": 5,
   "id": "d302ddde-d1a4-419e-b481-c9267642f841",
   "metadata": {},
   "outputs": [
    {
     "name": "stdin",
     "output_type": "stream",
     "text": [
      "enter an age: -34\n"
     ]
    },
    {
     "ename": "Exception",
     "evalue": "age can't be negative",
     "output_type": "error",
     "traceback": [
      "\u001b[0;31m---------------------------------------------------------------------------\u001b[0m",
      "\u001b[0;31mException\u001b[0m                                 Traceback (most recent call last)",
      "Cell \u001b[0;32mIn[5], line 3\u001b[0m\n\u001b[1;32m      1\u001b[0m age\u001b[38;5;241m=\u001b[39m \u001b[38;5;28mint\u001b[39m(\u001b[38;5;28minput\u001b[39m(\u001b[38;5;124m\"\u001b[39m\u001b[38;5;124menter an age:\u001b[39m\u001b[38;5;124m\"\u001b[39m))\n\u001b[1;32m      2\u001b[0m \u001b[38;5;28;01mif\u001b[39;00m age\u001b[38;5;241m<\u001b[39m\u001b[38;5;241m0\u001b[39m:\n\u001b[0;32m----> 3\u001b[0m     \u001b[38;5;28;01mraise\u001b[39;00m \u001b[38;5;167;01mException\u001b[39;00m(\u001b[38;5;124m\"\u001b[39m\u001b[38;5;124mage can\u001b[39m\u001b[38;5;124m'\u001b[39m\u001b[38;5;124mt be negative\u001b[39m\u001b[38;5;124m\"\u001b[39m)    \u001b[38;5;66;03m# string is passed into Exception class\u001b[39;00m\n",
      "\u001b[0;31mException\u001b[0m: age can't be negative"
     ]
    }
   ],
   "source": [
    "age= int(input(\"enter an age:\"))\n",
    "if age<0:\n",
    "    raise Exception(\"age can't be negative\")    # string is passed into Exception class"
   ]
  },
  {
   "cell_type": "markdown",
   "id": "18b5f5c4-a2b6-4cb7-a44f-1487ccbd42e7",
   "metadata": {},
   "source": [
    "#### (5)-\n",
    "##### Custom exceptions are those which the user defines by himself. They are not the part of built-in exceptions of the Exception class- zerodivision error, filenotfound error, IOerror etc. We can define these custom exceptions by creating a new class that is derived from the built-in Exception class\n",
    "##### We need custom exceptions because having them tailored to our specific use cases that we can raise and catch in specific circumstances makes our code much more readable and robust"
   ]
  },
  {
   "cell_type": "code",
   "execution_count": 6,
   "id": "1b520c0b-baca-4aab-88f7-bca0f9c0d453",
   "metadata": {},
   "outputs": [
    {
     "name": "stdin",
     "output_type": "stream",
     "text": [
      "enter an age: 15\n"
     ]
    },
    {
     "name": "stdout",
     "output_type": "stream",
     "text": [
      "not eligible to vote\n"
     ]
    }
   ],
   "source": [
    "class invalidage(Exception):\n",
    "    def __init__(self,msg):\n",
    "        self.msg= msg\n",
    "\n",
    "try:\n",
    "    age= int(input(\"enter an age:\"))\n",
    "    if age<18:\n",
    "        raise invalidage(\"not eligible to vote\")\n",
    "    else:\n",
    "        print(\"eligible to vote\")\n",
    "        \n",
    "except invalidage as e:\n",
    "    print(e)\n",
    "        "
   ]
  },
  {
   "cell_type": "markdown",
   "id": "ebad64ee-782e-4d76-b103-17da7d0f2013",
   "metadata": {},
   "source": [
    "#### (6)-"
   ]
  },
  {
   "cell_type": "code",
   "execution_count": 7,
   "id": "71d7bc23-3448-45a6-a204-3d8e98bcc052",
   "metadata": {},
   "outputs": [
    {
     "name": "stdin",
     "output_type": "stream",
     "text": [
      "enter an age: -40\n"
     ]
    },
    {
     "name": "stdout",
     "output_type": "stream",
     "text": [
      "age can't be negative\n"
     ]
    }
   ],
   "source": [
    "class valid(Exception):\n",
    "    def __init__(self,msg):\n",
    "        self.msg= msg\n",
    "        \n",
    "def valid_age(age):\n",
    "    if age<0:\n",
    "        raise valid(\"age can't be negative\")\n",
    "    elif age>200:\n",
    "        raise valid(\"age is too high!\")\n",
    "    else:\n",
    "        print(\"age is valid\")\n",
    "        \n",
    "try:\n",
    "    age= int(input(\"enter an age:\"))\n",
    "    valid_age(age)\n",
    "except valid as e:\n",
    "    print(e)"
   ]
  },
  {
   "cell_type": "code",
   "execution_count": null,
   "id": "2171cb8c-3284-49b9-b6f9-2741164a9cc8",
   "metadata": {},
   "outputs": [],
   "source": []
  }
 ],
 "metadata": {
  "kernelspec": {
   "display_name": "Python 3 (ipykernel)",
   "language": "python",
   "name": "python3"
  },
  "language_info": {
   "codemirror_mode": {
    "name": "ipython",
    "version": 3
   },
   "file_extension": ".py",
   "mimetype": "text/x-python",
   "name": "python",
   "nbconvert_exporter": "python",
   "pygments_lexer": "ipython3",
   "version": "3.10.8"
  }
 },
 "nbformat": 4,
 "nbformat_minor": 5
}
